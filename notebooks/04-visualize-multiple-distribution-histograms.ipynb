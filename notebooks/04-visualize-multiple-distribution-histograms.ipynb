{
 "cells": [
  {
   "cell_type": "markdown",
   "id": "1fceeccd",
   "metadata": {},
   "source": [
    "# Visualizing multiple distributions with histograms and density plots"
   ]
  },
  {
   "cell_type": "markdown",
   "id": "00561888",
   "metadata": {},
   "source": [
    "This is the fourth installment in a series of blog posts where we reproduce plots from Claus Wilke’s book, *Fundamentals of Data Visualization*. \n",
    "\n",
    "This notebook demonstrates how to recreate the multiple distribution histograms and density plots found in the “[visualizing distributions](https://clauswilke.com/dataviz/histograms-density-plots.html#multiple-histograms-densities)” chapter of the book. We will use the `patch()` and `hbar()` glyphs to recreate the density plots and histograms."
   ]
  },
  {
   "cell_type": "code",
   "execution_count": null,
   "id": "230c1ccd",
   "metadata": {},
   "outputs": [],
   "source": [
    "from bokeh.io import output_notebook"
   ]
  },
  {
   "cell_type": "code",
   "execution_count": null,
   "id": "455adcd5",
   "metadata": {
    "scrolled": true
   },
   "outputs": [],
   "source": [
    "output_notebook()  # render plots inline"
   ]
  },
  {
   "cell_type": "markdown",
   "id": "c1a9c2c7",
   "metadata": {},
   "source": [
    "## Multiple distribution density plots\n",
    "\n",
    "### A.\n",
    "The plots in this sub-section represent the age distribution of male and female Titanic passengers.\n",
    "\n",
    "The `patch()` glyph is used to create the density plots."
   ]
  },
  {
   "cell_type": "markdown",
   "id": "3261063a",
   "metadata": {},
   "source": [
    "#### Data preparation"
   ]
  },
  {
   "cell_type": "code",
   "execution_count": null,
   "id": "7820b0ef",
   "metadata": {},
   "outputs": [],
   "source": [
    "# import the relevant libraries\n",
    "import pandas as pd"
   ]
  },
  {
   "cell_type": "code",
   "execution_count": null,
   "id": "6f3f84a3",
   "metadata": {
    "scrolled": false
   },
   "outputs": [],
   "source": [
    "file = \"../data/csv_files/titanic_all.csv\"\n",
    "\n",
    "# create new dataframe with only the relevant columns\n",
    "titanic = pd.read_csv(file)\n",
    "titanic = titanic.drop([\"name\", \"class\", \"survived\"], axis=1)\n",
    "\n",
    "# create new dataframe for male and female passengers respectively\n",
    "female = titanic[titanic[\"sex\"] == \"female\"]\n",
    "male = titanic[titanic[\"sex\"] == \"male\"]\n",
    "\n",
    "# get age data for the density plots.\n",
    "f_values = female.age.dropna().values\n",
    "m_values = male.age.dropna().values\n",
    "t_values = titanic.age.dropna().values"
   ]
  },
  {
   "cell_type": "markdown",
   "id": "f0f1a3d5",
   "metadata": {},
   "source": [
    "#### Plotting"
   ]
  },
  {
   "cell_type": "code",
   "execution_count": null,
   "id": "2837373a",
   "metadata": {},
   "outputs": [],
   "source": [
    "from bokeh.plotting import figure, show\n",
    "from sklearn.neighbors import KernelDensity\n",
    "import numpy as np"
   ]
  },
  {
   "cell_type": "code",
   "execution_count": null,
   "id": "1f01dfc0",
   "metadata": {},
   "outputs": [],
   "source": [
    "# create function to plot the multiple density estimates\n",
    "def plot_kde(data_dict, title, kernel=\"gaussian\", bandwidth=2, line_color=None):\n",
    "    \"\"\"\n",
    "    Create a density plot using Kernel Density Estimation (KDE) for multiple datasets.\n",
    "\n",
    "    Parameters:\n",
    "        data_dict (list of dicts): A list of dictionaries, where each dictionary contains the following keys:\n",
    "                                   - 'data': The data to be plotted.\n",
    "                                   - 'color': The color of the filled area.\n",
    "                                   - 'legend_label': The legend label for the dataset.\n",
    "        title (str): The title of the plot.\n",
    "        kernel (str, optional): The type of kernel to use in creating the plot. Default is gaussian.\n",
    "        bandwidth (float, optional): The bandwidth of the KDE. Higher values result in smoother\n",
    "                                     but less accurate density plots. Default is 2.\n",
    "        line_color (str, optional): The color of the lines around the filled areas.\n",
    "                                    Default is None, which means no lines will be drawn.\n",
    "\n",
    "    Returns:\n",
    "        bokeh.plotting.figure.Figure: The Bokeh figure containing the density plot.\n",
    "    \"\"\"\n",
    "    positions = np.linspace(-10, 80, 1000)\n",
    "\n",
    "    # create figure object\n",
    "    p = figure(\n",
    "        title=title,  # plot title\n",
    "        height=300,  # plot height\n",
    "        width=500,  # plot width\n",
    "        toolbar_location=None,  # remove toolbars\n",
    "        x_axis_label=\"age (years)\",\n",
    "        y_axis_label=\"scaled density\",\n",
    "    )\n",
    "\n",
    "    # loop through each data_dict and plot a density plot for each\n",
    "    for info in data_dict:\n",
    "        data = info[\"data\"]\n",
    "        color = info[\"color\"]\n",
    "        legend_label = info[\"legend_label\"]\n",
    "\n",
    "        # create kde object and fit object into 'data' parameter\n",
    "        kde = KernelDensity(kernel=kernel, bandwidth=bandwidth).fit(data[:, np.newaxis])\n",
    "\n",
    "        # calculate log-density estimation (log_dens) at each position using the 'score_samples' method\n",
    "        density = np.exp(kde.score_samples(positions[:, np.newaxis]))\n",
    "\n",
    "        # scale the density estimation to correspond to the number of data values\n",
    "        scaled_density = density * len(data)\n",
    "\n",
    "        p.patch(\n",
    "            positions,\n",
    "            scaled_density,\n",
    "            fill_alpha=0.9,\n",
    "            fill_color=color,\n",
    "            line_color=line_color,\n",
    "            legend_label=legend_label,\n",
    "        )\n",
    "\n",
    "    # customize the x-axis\n",
    "    p.x_range.start = 0\n",
    "    p.xaxis.ticker = [0, 20, 40, 60]\n",
    "    p.xgrid.grid_line_color = None\n",
    "    p.xaxis.axis_line_color = None\n",
    "    p.xaxis.major_tick_line_color = \"gray\"\n",
    "    p.xaxis.major_tick_out = 2\n",
    "\n",
    "    # customize the y-axis\n",
    "    p.y_range.start = 0\n",
    "    p.yaxis.minor_tick_out = 0\n",
    "    p.yaxis.axis_line_color = None\n",
    "    p.yaxis.major_tick_line_color = \"gray\"\n",
    "    p.yaxis.major_tick_out = 0\n",
    "    p.yaxis.major_tick_in = 0\n",
    "\n",
    "    p.legend.location = \"top_right\"\n",
    "\n",
    "    return p"
   ]
  },
  {
   "cell_type": "code",
   "execution_count": null,
   "id": "4be1effe",
   "metadata": {},
   "outputs": [],
   "source": [
    "# generate a single multiple density plot\n",
    "data_dict = [\n",
    "    {\"data\": m_values, \"color\": \"#5BA4DB\", \"legend_label\": \"male\"},\n",
    "    {\"data\": f_values, \"color\": \"#D0771E\", \"legend_label\": \"female\"},\n",
    "]\n",
    "\n",
    "single = plot_kde(data_dict, \"Figure 7.8\", line_color=\"black\")\n",
    "show(single)"
   ]
  },
  {
   "cell_type": "code",
   "execution_count": null,
   "id": "35dee3e9",
   "metadata": {
    "scrolled": true
   },
   "outputs": [],
   "source": [
    "# generate two multiple density plots and display them in a grid\n",
    "from bokeh.layouts import gridplot\n",
    "\n",
    "male_data = [\n",
    "    {\"data\": t_values, \"color\": \"#D5D4D3\", \"legend_label\": \"all passengers\"},\n",
    "    {\"data\": m_values, \"color\": \"#055BB2\", \"legend_label\": \"male\"},\n",
    "]\n",
    "\n",
    "female_data = [\n",
    "    {\"data\": t_values, \"color\": \"#D5D4D3\", \"legend_label\": \"all passengers\"},\n",
    "    {\"data\": f_values, \"color\": \"#CB6805\", \"legend_label\": \"female\"},\n",
    "]\n",
    "male = plot_kde(male_data, \"Figure 7.9 male passengers\")\n",
    "female = plot_kde(female_data, \"Figure 7.9 female passengers\")\n",
    "\n",
    "layout = gridplot([male, female], ncols=2)\n",
    "show(layout)"
   ]
  },
  {
   "cell_type": "markdown",
   "id": "07cb2515",
   "metadata": {},
   "source": [
    "### B.\n",
    "The plot in this sub-section represent the butterfat percentage in the milk of four cattle breeds.\n",
    "\n",
    "The `patch()` glyph is also used to create the density plots."
   ]
  },
  {
   "cell_type": "markdown",
   "id": "41d0def1",
   "metadata": {},
   "source": [
    "#### Data preparation"
   ]
  },
  {
   "cell_type": "code",
   "execution_count": null,
   "id": "062d1619",
   "metadata": {
    "scrolled": true
   },
   "outputs": [],
   "source": [
    "file = \"../data/csv_files/cows.csv\"\n",
    "\n",
    "df = pd.read_csv(file)\n",
    "\n",
    "# create dataframes for the four different cattle breeds\n",
    "jersey = df[df[\"breed\"] == \"Jersey\"]\n",
    "holstein = df[df[\"breed\"] == \"Holstein-Friesian\"]\n",
    "guernsey = df[df[\"breed\"] == \"Guernsey\"]\n",
    "ayrshire = df[df[\"breed\"] == \"Ayrshire\"]\n",
    "\n",
    "# get butterfat data for the cattle breeds\n",
    "j_values = jersey.butterfat.values\n",
    "h_values = holstein.butterfat.values\n",
    "g_values = guernsey.butterfat.values\n",
    "a_values = ayrshire.butterfat.values\n",
    "positions = np.linspace(2, 8, 1000)"
   ]
  },
  {
   "cell_type": "markdown",
   "id": "1a767a40",
   "metadata": {},
   "source": [
    "#### Plotting"
   ]
  },
  {
   "cell_type": "code",
   "execution_count": null,
   "id": "79894d3d",
   "metadata": {
    "scrolled": true
   },
   "outputs": [],
   "source": [
    "from bokeh.models import Label, CustomJSTickFormatter\n",
    "\n",
    "# arrange plotting data as pandas DataFrame\n",
    "data_dict = {\n",
    "    \"values\": [a_values, g_values, h_values, j_values],\n",
    "    \"bandwidths\": [0.125, 0.25, 0.1, 0.3],\n",
    "    \"colors\": [\"#409DFA\", \"#AC5703\", \"#9E5205\", \"green\"],\n",
    "    \"labels\": [\"Ayrshire\", \"Guernsey\", \"Holstein-Friesian\", \"Jersey\"],\n",
    "}\n",
    "\n",
    "df = pd.DataFrame(data_dict)\n",
    "\n",
    "# Create figure object\n",
    "p = figure(\n",
    "    title=\"figure 7.11\",  # plot title\n",
    "    height=300,  # plot height\n",
    "    width=600,  # plot width\n",
    "    x_axis_label=\"butterfat contents\",\n",
    "    y_axis_label=\"density\",\n",
    ")\n",
    "\n",
    "# Loop to calculate KDE and plot patches\n",
    "for _, row in df.iterrows():\n",
    "    data, bandwidth, color, label = (\n",
    "        row[\"values\"],\n",
    "        row[\"bandwidths\"],\n",
    "        row[\"colors\"],\n",
    "        row[\"labels\"],\n",
    "    )\n",
    "\n",
    "    kde = KernelDensity(kernel=\"gaussian\", bandwidth=bandwidth).fit(data[:, np.newaxis])\n",
    "    log_dens = kde.score_samples(positions[:, np.newaxis])\n",
    "\n",
    "    p.patch(\n",
    "        positions,\n",
    "        np.exp(log_dens),\n",
    "        fill_alpha=0.3,\n",
    "        fill_color=color,\n",
    "        line_color=color,\n",
    "    )\n",
    "\n",
    "    # Find the highest point and annotate with the label\n",
    "    max_idx = np.argmax(np.exp(log_dens))\n",
    "    highest_point_label = Label(\n",
    "        x=positions[max_idx],\n",
    "        y=np.exp(log_dens[max_idx]),\n",
    "        text=label,\n",
    "        text_font_size=\"10pt\",\n",
    "        x_offset=20,\n",
    "        y_offset=-5,\n",
    "        text_color=color,\n",
    "    )\n",
    "    p.add_layout(highest_point_label)\n",
    "\n",
    "# Convert x-axis labels to percentages\n",
    "x_axis_labels = {3: \"3%\", 4: \"4%\", 5: \"5%\", 6: \"6%\", 7: \"7%\"}\n",
    "p.xaxis.formatter = CustomJSTickFormatter(\n",
    "    code=\"\"\"return tick in %s ? %s[tick] : '';\"\"\" % (x_axis_labels, x_axis_labels)\n",
    ")\n",
    "\n",
    "# customize x-axis\n",
    "p.x_range.start = 3\n",
    "p.xgrid.grid_line_color = None\n",
    "p.xaxis.axis_line_color = None\n",
    "p.xaxis.major_tick_line_color = \"gray\"\n",
    "p.xaxis.major_tick_out = 2\n",
    "p.xaxis.minor_tick_out = 0\n",
    "\n",
    "# customize y-axis\n",
    "p.yaxis.ticker = [0, 0.5, 1, 1.5]\n",
    "p.y_range.start = 0\n",
    "p.yaxis.minor_tick_out = 0\n",
    "p.yaxis.axis_line_color = None\n",
    "p.yaxis.major_tick_line_color = \"gray\"\n",
    "p.yaxis.major_tick_out = 0\n",
    "p.yaxis.major_tick_in = 0\n",
    "\n",
    "show(p)"
   ]
  },
  {
   "cell_type": "markdown",
   "id": "d8a9eb5e",
   "metadata": {},
   "source": [
    "For more information about the `patch()` glyph, read our reference guide [here](https://docs.bokeh.org/en/latest/docs/reference/plotting/figure.html#bokeh.plotting.figure.patch)."
   ]
  },
  {
   "cell_type": "markdown",
   "id": "5738eaba",
   "metadata": {},
   "source": [
    "## Multiple distribution histogram\n",
    "\n",
    "The plot in this sub-section represent the age distributions of male and female Titanic passengers.\n",
    "\n",
    "The `hbar()` glyph is used to create the histogram plot."
   ]
  },
  {
   "cell_type": "markdown",
   "id": "c6d85003",
   "metadata": {},
   "source": [
    "#### Data preparation\n",
    "\n",
    "We will use the same Titanic data from the density plots."
   ]
  },
  {
   "cell_type": "code",
   "execution_count": null,
   "id": "3f19f549",
   "metadata": {},
   "outputs": [],
   "source": [
    "# create dataframe for only the males and females\n",
    "female = titanic[titanic[\"sex\"] == \"female\"]\n",
    "male = titanic[titanic[\"sex\"] == \"male\"]\n",
    "\n",
    "# extract age data from the dataframes\n",
    "m_age = male.age.dropna()\n",
    "f_age = female.age.dropna()\n",
    "\n",
    "# compute histograms for both datasets\n",
    "bins = np.arange(0, 80, 3)\n",
    "m_hist, edges = np.histogram(m_age, bins=bins)\n",
    "f_hist, edges = np.histogram(f_age, bins=bins)"
   ]
  },
  {
   "cell_type": "markdown",
   "id": "0aff0d53",
   "metadata": {},
   "source": [
    "#### Plotting"
   ]
  },
  {
   "cell_type": "code",
   "execution_count": null,
   "id": "b7676e9d",
   "metadata": {
    "scrolled": true
   },
   "outputs": [],
   "source": [
    "from bokeh.models import Label, CustomJSTickFormatter\n",
    "\n",
    "# create figure object\n",
    "p = figure(\n",
    "    title=\"Figure 7.10\",  # plot title\n",
    "    height=400,  # plot height\n",
    "    width=600,  # plot width\n",
    "    x_range=(-60, 40),  # range of x-axis values to display\n",
    "    toolbar_location=None,  # remove toolbars\n",
    "    x_axis_label=\"count\",\n",
    "    y_axis_label=\"age (years)\",\n",
    ")\n",
    "\n",
    "# plot male histogram\n",
    "p.hbar(\n",
    "    right=m_hist * -1,  # right endpoints of bars\n",
    "    y=edges[1:],  # y-axis values\n",
    "    height=2,  # bar height\n",
    "    color=\"#055BB2\",\n",
    ")\n",
    "\n",
    "# plot female histogram\n",
    "p.hbar(\n",
    "    right=f_hist,\n",
    "    y=edges[1:],\n",
    "    height=2,\n",
    "    color=\"#CB6805\",\n",
    ")\n",
    "\n",
    "# customise x-axis and y-axis\n",
    "p.xaxis.ticker = [-40, -20, 0, 20, 40]\n",
    "p.yaxis.ticker = [0, 20, 40, 60]\n",
    "p.y_range.start = 1.5\n",
    "\n",
    "# create custom formatter function to make all tick labels positive\n",
    "\n",
    "\n",
    "def positive_labels():\n",
    "    return \"return Math.abs(tick);\"\n",
    "\n",
    "\n",
    "# apply the custom formatter to the x-axis using CustomJSTickFormatter\n",
    "p.xaxis.formatter = CustomJSTickFormatter(args=dict(), code=positive_labels())\n",
    "\n",
    "# add labels\n",
    "m_label = Label(x=-40, y=70, text=\"male\", text_font_size=\"15pt\", x_offset=5)\n",
    "f_label = Label(x=20, y=70, text=\"female\", text_font_size=\"15pt\", x_offset=5)\n",
    "\n",
    "p.add_layout(m_label)\n",
    "p.add_layout(f_label)\n",
    "\n",
    "show(p)"
   ]
  },
  {
   "cell_type": "markdown",
   "id": "41a18c4a",
   "metadata": {},
   "source": [
    "For more information about the `hbar()` glyph, read our reference guide [here](https://docs.bokeh.org/en/latest/docs/reference/plotting/figure.html#bokeh.plotting.figure.hbar)."
   ]
  },
  {
   "cell_type": "code",
   "execution_count": null,
   "id": "5ed51bb0",
   "metadata": {},
   "outputs": [],
   "source": []
  }
 ],
 "metadata": {
  "kernelspec": {
   "display_name": "Python 3 (ipykernel)",
   "language": "python",
   "name": "python3"
  },
  "language_info": {
   "codemirror_mode": {
    "name": "ipython",
    "version": 3
   },
   "file_extension": ".py",
   "mimetype": "text/x-python",
   "name": "python",
   "nbconvert_exporter": "python",
   "pygments_lexer": "ipython3",
   "version": "3.9.16"
  }
 },
 "nbformat": 4,
 "nbformat_minor": 5
}
