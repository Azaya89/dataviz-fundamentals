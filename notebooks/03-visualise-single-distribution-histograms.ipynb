{
 "cells": [
  {
   "cell_type": "markdown",
   "id": "695393c2",
   "metadata": {},
   "source": [
    "# Visualize distributions with histograms and density plots"
   ]
  },
  {
   "cell_type": "markdown",
   "id": "16d4472b",
   "metadata": {},
   "source": [
    "This is the third installment in a series of blog posts where we reproduce plots from Claus Wilke’s book, *Fundamentals of Data Visualization*. \n",
    "\n",
    "This notebook demonstrates how to recreate the single distribution histograms and density plots found in the [visualizing distributions](https://clauswilke.com/dataviz/histograms-density-plots.html#visualizing-a-single-distribution) chapter of the book. We will use the Bokeh `quad()` and `countour()` glyphs to receate the histograms and density plots.\n"
   ]
  },
  {
   "cell_type": "code",
   "execution_count": null,
   "id": "1b566466",
   "metadata": {},
   "outputs": [],
   "source": [
    "from bokeh.io import output_notebook\n",
    "\n",
    "output_notebook()  # render plots inline in notebook"
   ]
  },
  {
   "cell_type": "markdown",
   "id": "1f2e7d7c",
   "metadata": {},
   "source": [
    "## Histograms\n",
    "\n",
    "The plots in this sub-section represent the age distribution of the TItanic passengers.\n",
    "\n",
    "The `quad()` glyph is used to create the histograms."
   ]
  },
  {
   "cell_type": "markdown",
   "id": "e1888948",
   "metadata": {},
   "source": [
    "#### Data preparation"
   ]
  },
  {
   "cell_type": "code",
   "execution_count": null,
   "id": "76162dc9",
   "metadata": {},
   "outputs": [],
   "source": [
    "# import the relevant library\n",
    "import pandas as pd"
   ]
  },
  {
   "cell_type": "code",
   "execution_count": null,
   "id": "ff6d254c",
   "metadata": {
    "scrolled": true
   },
   "outputs": [],
   "source": [
    "file = \"../data/csv_files/titanic_all.csv\"\n",
    "\n",
    "df = pd.read_csv(file)\n",
    "\n",
    "ages = df.age.dropna()\n",
    "\n",
    "ages"
   ]
  },
  {
   "cell_type": "markdown",
   "id": "f3fd0e55",
   "metadata": {},
   "source": [
    "#### Plotting"
   ]
  },
  {
   "cell_type": "code",
   "execution_count": null,
   "id": "90fb036b",
   "metadata": {},
   "outputs": [],
   "source": [
    "from bokeh.plotting import figure, show\n",
    "import numpy as np"
   ]
  },
  {
   "cell_type": "code",
   "execution_count": null,
   "id": "c00ebd03",
   "metadata": {},
   "outputs": [],
   "source": [
    "# create a function to plot a histogram\n",
    "\n",
    "\n",
    "def plot_hist(df, step, title):\n",
    "    \"\"\"\n",
    "    Create a histogram plot using Bokeh.\n",
    "\n",
    "    Args:\n",
    "        df (array-like): The data to be plotted as a histogram.\n",
    "        step (float): The width of each bin in the histogram.\n",
    "        title (str): The title of the plot.\n",
    "\n",
    "    Returns:\n",
    "        bokeh.plotting.figure.Figure: The Bokeh figure object representing the histogram plot.\n",
    "\n",
    "    Raises:\n",
    "        ValueError: If the input data is empty or contains invalid values.\n",
    "    \"\"\"\n",
    "    # data validation\n",
    "    if len(df) == 0:\n",
    "        raise ValueError(\"Input data is empty.\")\n",
    "\n",
    "    if not all(isinstance(val, (int, float)) for val in df):\n",
    "        raise ValueError(\n",
    "            \"Input data contains invalid values. Expected numerical values.\"\n",
    "        )\n",
    "\n",
    "    # function implementation\n",
    "    bins = np.arange(0, 80, step)  # create bins\n",
    "    hist, edges = np.histogram(df, bins=bins)  # create histogram and bin edges\n",
    "\n",
    "    # create figure object\n",
    "    p = figure(\n",
    "        title=title,  # plot title\n",
    "        height=300,  # plot height\n",
    "        width=400,  # plot width\n",
    "        x_axis_label=\"age (years)\",\n",
    "        y_axis_label=\"count\",\n",
    "    )\n",
    "\n",
    "    # create histogram plot\n",
    "    p.quad(\n",
    "        top=hist,  # frequency value of each bin\n",
    "        bottom=0,  # start of rectangle on y-axis\n",
    "        left=edges[:-1],  # left edges of bin\n",
    "        right=edges[1:],  # right edges of bin\n",
    "        fill_color=\"#52A9EB\",  # rectangle color\n",
    "        line_color=\"white\",  # line color of rectangle\n",
    "    )\n",
    "\n",
    "    # plot customization\n",
    "\n",
    "    # customise x-axis\n",
    "    p.x_range.start = 0\n",
    "    p.xaxis.ticker = [0, 20, 40, 60]\n",
    "    p.xgrid.grid_line_color = None\n",
    "    p.xaxis.axis_line_color = None\n",
    "    p.xaxis.major_tick_line_color = \"gray\"\n",
    "    p.xaxis.major_tick_out = 2\n",
    "\n",
    "    # customise y-axis\n",
    "    p.y_range.start = 0\n",
    "    p.yaxis.minor_tick_out = 0\n",
    "    p.yaxis.axis_line_color = None\n",
    "    p.yaxis.major_tick_line_color = \"gray\"\n",
    "    p.yaxis.major_tick_out = 0\n",
    "    p.yaxis.major_tick_in = 0\n",
    "\n",
    "    return p"
   ]
  },
  {
   "cell_type": "code",
   "execution_count": null,
   "id": "a8698d7f",
   "metadata": {},
   "outputs": [],
   "source": [
    "# plot a single histogram\n",
    "single = plot_hist(ages, 5, \"figure 7.1\")\n",
    "\n",
    "show(single)"
   ]
  },
  {
   "cell_type": "code",
   "execution_count": null,
   "id": "95cd4e87",
   "metadata": {},
   "outputs": [],
   "source": [
    "from bokeh.layouts import gridplot"
   ]
  },
  {
   "cell_type": "code",
   "execution_count": null,
   "id": "7a0ed0af",
   "metadata": {},
   "outputs": [],
   "source": [
    "# plot four histograms and display in a 2x2 grid\n",
    "one = plot_hist(ages, 1, \"a\")\n",
    "three = plot_hist(ages, 3, \"b\")\n",
    "five = plot_hist(ages, 5, \"c\")\n",
    "fifteen = plot_hist(ages, 15, \"d\")\n",
    "\n",
    "layout = gridplot([[one, three], [five, fifteen]])\n",
    "\n",
    "show(layout)"
   ]
  },
  {
   "cell_type": "markdown",
   "id": "0231a443",
   "metadata": {},
   "source": [
    "For more information on the `quad()` glyph, check our user guide [here](https://docs.bokeh.org/en/latest/docs/reference/plotting/figure.html#bokeh.plotting.figure.quad)."
   ]
  },
  {
   "cell_type": "markdown",
   "id": "7bac6510",
   "metadata": {},
   "source": [
    "## Density plots\n",
    "\n",
    "The plots in this sub-section represent the age distribution of the TItanic passengers.\n",
    "\n",
    "The `contour()` glyph is used to create the density plots."
   ]
  },
  {
   "cell_type": "code",
   "execution_count": null,
   "id": "3121e442",
   "metadata": {},
   "outputs": [],
   "source": []
  }
 ],
 "metadata": {
  "kernelspec": {
   "display_name": "Python 3 (ipykernel)",
   "language": "python",
   "name": "python3"
  },
  "language_info": {
   "codemirror_mode": {
    "name": "ipython",
    "version": 3
   },
   "file_extension": ".py",
   "mimetype": "text/x-python",
   "name": "python",
   "nbconvert_exporter": "python",
   "pygments_lexer": "ipython3",
   "version": "3.9.16"
  }
 },
 "nbformat": 4,
 "nbformat_minor": 5
}
