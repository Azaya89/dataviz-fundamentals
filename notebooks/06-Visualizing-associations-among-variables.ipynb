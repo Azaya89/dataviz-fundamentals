{
 "cells": [
  {
   "cell_type": "code",
   "execution_count": null,
   "id": "00866386",
   "metadata": {},
   "outputs": [],
   "source": [
    "from bokeh.io import output_notebook\n",
    "import pandas as pd\n",
    "import numpy as np\n",
    "\n",
    "output_notebook()"
   ]
  },
  {
   "cell_type": "code",
   "execution_count": null,
   "id": "970c32b6",
   "metadata": {
    "scrolled": true
   },
   "outputs": [],
   "source": [
    "file = \"../data/csv_files/blue_jays.csv\"\n",
    "\n",
    "df = pd.read_csv(file)\n",
    "df.head()"
   ]
  },
  {
   "cell_type": "markdown",
   "id": "772150b4",
   "metadata": {},
   "source": [
    "## Figure 12.3"
   ]
  },
  {
   "cell_type": "code",
   "execution_count": null,
   "id": "68d43d92",
   "metadata": {},
   "outputs": [],
   "source": [
    "df[\"skull_size\"] = [1.5 * (2 ** (size / 10)) for size in df[\"Skull\"]]\n",
    "\n",
    "df.head()"
   ]
  },
  {
   "cell_type": "code",
   "execution_count": null,
   "id": "47b921b7",
   "metadata": {},
   "outputs": [],
   "source": [
    "male = df[df[\"Sex\"] == 1]\n",
    "female = df[df[\"Sex\"] == 0]"
   ]
  },
  {
   "cell_type": "code",
   "execution_count": null,
   "id": "7781e2d1",
   "metadata": {},
   "outputs": [],
   "source": [
    "from bokeh.plotting import figure, show\n",
    "from bokeh.layouts import gridplot\n",
    "\n",
    "\n",
    "def plot_scatter(df, fill_color=None, text=None, yaxis=False):\n",
    "    p = figure(\n",
    "        title=\"Figure 12.3\",\n",
    "        height=400,\n",
    "        width=400,\n",
    "        y_range=(50, 62),\n",
    "        x_axis_label=\"body mass (g)\",\n",
    "        y_axis_label=\"head length (mm)\",\n",
    "        toolbar_location=None,\n",
    "    )\n",
    "\n",
    "    p.scatter(\n",
    "        x=\"Mass\",\n",
    "        y=\"Head\",\n",
    "        size=\"skull_size\",\n",
    "        source=df,\n",
    "        fill_color=fill_color,\n",
    "        line_color=\"white\",\n",
    "    )\n",
    "\n",
    "    # customize plot axis and title\n",
    "    p.yaxis.ticker = [52, 54, 56, 58, 60]\n",
    "    p.yaxis.visible = yaxis\n",
    "    p.title.text = text\n",
    "    p.title.text_font_size = \"12px\"\n",
    "    p.title.align = \"center\"\n",
    "    p.title.background_fill_color = \"darkgrey\"\n",
    "    p.title.background_fill_alpha = 0.4\n",
    "\n",
    "    return p"
   ]
  },
  {
   "cell_type": "code",
   "execution_count": null,
   "id": "0b559085",
   "metadata": {
    "scrolled": true
   },
   "outputs": [],
   "source": [
    "a = plot_scatter(female, \"#DF7307\", \"female birds\", yaxis=True)\n",
    "b = plot_scatter(male, \"#2769AB\", \"male birds\")\n",
    "\n",
    "layout = gridplot([[a, b]], sizing_mode=\"scale_both\")\n",
    "show(layout)"
   ]
  },
  {
   "cell_type": "markdown",
   "id": "feaad8ae",
   "metadata": {},
   "source": [
    "## Figure 12.4"
   ]
  },
  {
   "cell_type": "code",
   "execution_count": null,
   "id": "cd8737ef",
   "metadata": {},
   "outputs": [],
   "source": [
    "def plot_grids(x, y, xlabel=None, ylabel=None, xaxis=False, yaxis=False):\n",
    "    p = figure(\n",
    "        height=400,\n",
    "        width=400,\n",
    "        x_axis_label=xlabel,\n",
    "        y_axis_label=ylabel,\n",
    "        toolbar_location=None,\n",
    "    )\n",
    "\n",
    "    p.scatter(\n",
    "        x=x,\n",
    "        y=y,\n",
    "        source=female,\n",
    "        size=6,\n",
    "        fill_color=\"#DF7307\",\n",
    "        line_color=\"white\",\n",
    "    )\n",
    "\n",
    "    p.scatter(\n",
    "        x=x,\n",
    "        y=y,\n",
    "        source=male,\n",
    "        size=6,\n",
    "        fill_color=\"#2769AB\",\n",
    "        line_color=\"white\",\n",
    "    )\n",
    "\n",
    "    p.xaxis.visible = xaxis\n",
    "    p.yaxis.visible = yaxis\n",
    "\n",
    "    return p"
   ]
  },
  {
   "cell_type": "code",
   "execution_count": null,
   "id": "1d3ef5cc",
   "metadata": {},
   "outputs": [],
   "source": [
    "s1 = plot_grids(\"Head\", \"Head\", ylabel=\"head length (mm)\", yaxis=True)\n",
    "s2 = plot_grids(\"Mass\", \"Head\")\n",
    "s3 = plot_grids(\"Skull\", \"Head\")\n",
    "s4 = plot_grids(\"Head\", \"Mass\", ylabel=\"body mass (g)\", yaxis=True)\n",
    "s5 = plot_grids(\"Mass\", \"Mass\")\n",
    "s6 = plot_grids(\"Skull\", \"Mass\")\n",
    "s7 = plot_grids(\n",
    "    \"Head\", \"Skull\", \"head length (mm)\", \"skull size(mm)\", xaxis=True, yaxis=True\n",
    ")\n",
    "s8 = plot_grids(\"Mass\", \"Skull\", \"body mass (g)\", xaxis=True)\n",
    "s9 = plot_grids(\"Skull\", \"Skull\", \"skull size (mm)\", xaxis=True)\n",
    "\n",
    "s = gridplot([s1, s2, s3, s4, s5, s6, s7, s8, s9], ncols=3, sizing_mode=\"scale_both\")\n",
    "show(s)"
   ]
  },
  {
   "cell_type": "code",
   "execution_count": null,
   "id": "3816ba86",
   "metadata": {},
   "outputs": [],
   "source": [
    "file = \"../data/csv_files/forensic_glass.csv\"\n",
    "\n",
    "df = pd.read_csv(file)\n",
    "df"
   ]
  },
  {
   "cell_type": "code",
   "execution_count": null,
   "id": "ae01656a",
   "metadata": {},
   "outputs": [],
   "source": []
  }
 ],
 "metadata": {
  "kernelspec": {
   "display_name": "Python 3 (ipykernel)",
   "language": "python",
   "name": "python3"
  },
  "language_info": {
   "codemirror_mode": {
    "name": "ipython",
    "version": 3
   },
   "file_extension": ".py",
   "mimetype": "text/x-python",
   "name": "python",
   "nbconvert_exporter": "python",
   "pygments_lexer": "ipython3",
   "version": "3.9.16"
  }
 },
 "nbformat": 4,
 "nbformat_minor": 5
}
