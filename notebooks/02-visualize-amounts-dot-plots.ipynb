{
 "cells": [
  {
   "cell_type": "markdown",
   "id": "aea13b70",
   "metadata": {},
   "source": [
    "# Visualize amounts with dot plots and heatmaps\n",
    "\n",
    "\n",
    "This is the second installment in a series of blog posts where we reproduce plots from Claus Wilke’s book, *Fundamentals of Data Visualization.*\n",
    "\n",
    "This page demonstrates how to  recreate the dot plots and heatmaps found in the [Visualising amounts](https://clauswilke.com/dataviz/visualizing-amounts.html#dot-plots-and-heatmaps) \n",
    "chapter of the book. We will use the Bokeh `circle()`, and `rect()` [glyphs](https://docs.bokeh.org/en/latest/docs/user_guide/topics/categorical.html#heatmaps) to create the dot plots and heatmaps.\n"
   ]
  },
  {
   "cell_type": "code",
   "execution_count": null,
   "id": "e2568916",
   "metadata": {},
   "outputs": [],
   "source": [
    "from bokeh.io import output_notebook\n",
    "\n",
    "output_notebook()  # render plots inline in notebook"
   ]
  },
  {
   "cell_type": "markdown",
   "id": "9a4e6158",
   "metadata": {},
   "source": [
    "## Dot plots\n",
    "\n",
    "The plots in this sub-section represent the life expectancies of countries in the Americas, for the year 2007.\n",
    "\n",
    "The `circle()` glyph is used to create the dot plots."
   ]
  },
  {
   "cell_type": "markdown",
   "id": "b145eb93",
   "metadata": {},
   "source": [
    "#### Data preparation"
   ]
  },
  {
   "cell_type": "code",
   "execution_count": null,
   "id": "591a04db",
   "metadata": {},
   "outputs": [],
   "source": [
    "# import the relevant libraries\n",
    "import pandas as pd"
   ]
  },
  {
   "cell_type": "code",
   "execution_count": null,
   "id": "fd42eec3",
   "metadata": {
    "scrolled": true
   },
   "outputs": [],
   "source": [
    "file = \"../data/csv_files/life_expectancy.csv\"\n",
    "df = pd.read_csv(file)\n",
    "\n",
    "# select only the relevant columns\n",
    "df = df.loc[:, [\"country\", \"2007\"]]\n",
    "\n",
    "americas = (\n",
    "    \"Argentina\",\n",
    "    \"Bolivia\",\n",
    "    \"Brazil\",\n",
    "    \"Canada\",\n",
    "    \"Chile\",\n",
    "    \"Colombia\",\n",
    "    \"Costa Rica\",\n",
    "    \"Cuba\",\n",
    "    \"Dominican Republic\",\n",
    "    \"Ecuador\",\n",
    "    \"El_Salvador\",\n",
    "    \"Guatemala\",\n",
    "    \"Haiti\",\n",
    "    \"Honduras\",\n",
    "    \"Jamaica\",\n",
    "    \"Mexico\",\n",
    "    \"Nicaragua\",\n",
    "    \"Panama\",\n",
    "    \"Paraguay\",\n",
    "    \"Peru\",\n",
    "    \"Puerto Rico\",\n",
    "    \"Trinidad and Tobago\",\n",
    "    \"United States\",\n",
    "    \"Uruguay\",\n",
    "    \"Venezuela\",\n",
    ")\n",
    "\n",
    "# create a new dataframe consisting of only american countries\n",
    "df = df[df[\"country\"].isin(americas)].reset_index(drop=True)\n",
    "df = df.rename(columns={\"2007\": \"years\"})\n",
    "df[\"years\"] = df[\"years\"].round()\n",
    "\n",
    "df"
   ]
  },
  {
   "cell_type": "markdown",
   "id": "78e8daf6",
   "metadata": {},
   "source": [
    "#### Plotting"
   ]
  },
  {
   "cell_type": "code",
   "execution_count": null,
   "id": "2c136ea5",
   "metadata": {},
   "outputs": [],
   "source": [
    "from bokeh.plotting import figure, show"
   ]
  },
  {
   "cell_type": "code",
   "execution_count": null,
   "id": "578841f2",
   "metadata": {
    "scrolled": true
   },
   "outputs": [],
   "source": [
    "# plot by country in alphabetical order\n",
    "\n",
    "# sort dataframe by \"country\" column in descending order\n",
    "df = df.sort_values(\"country\", ascending=False)\n",
    "\n",
    "# create figure object\n",
    "p = figure(\n",
    "    title=\"Figure 6.13 Life expectancy\",  # plot title\n",
    "    height=400,  # plot height\n",
    "    y_range=df.country,  # categorical range on the y-axis\n",
    "    x_axis_label=\"life expectancy (years)\",\n",
    "    sizing_mode=\"stretch_width\",  # make plot width responsive to screen size\n",
    ")\n",
    "\n",
    "# create dot plot\n",
    "p.circle(\n",
    "    x=\"years\",  # x-axis column name\n",
    "    y=\"country\",  # y-axis column name\n",
    "    source=df,  # data source for x and y axis\n",
    "    size=8,  # circle size\n",
    ")\n",
    "\n",
    "# plot customization\n",
    "\n",
    "# remove line color and minor ticks in x-axis\n",
    "p.xaxis.minor_tick_out = 0\n",
    "p.xaxis.axis_line_color = None\n",
    "\n",
    "# remove line color in y-axis\n",
    "p.yaxis.axis_line_color = None\n",
    "\n",
    "\n",
    "show(p)  # display plot"
   ]
  },
  {
   "cell_type": "code",
   "execution_count": null,
   "id": "697b6a3b",
   "metadata": {},
   "outputs": [],
   "source": [
    "# plot by life expectancy in descending order\n",
    "\n",
    "# sort dataframe by \"years\" column in ascending order\n",
    "df = df.sort_values(\"years\")\n",
    "\n",
    "p = figure(\n",
    "    title=\"Figure 6.11 Life expectancy\",\n",
    "    height=400,\n",
    "    y_range=df.country,\n",
    "    x_axis_label=\"life expectancy (years)\",\n",
    "    sizing_mode=\"stretch_width\",\n",
    ")\n",
    "\n",
    "p.circle(x=\"years\", y=\"country\", source=df, size=8)\n",
    "\n",
    "p.xaxis.minor_tick_out = 0\n",
    "p.xaxis.axis_line_color = None\n",
    "p.yaxis.axis_line_color = None\n",
    "\n",
    "show(p)"
   ]
  },
  {
   "cell_type": "markdown",
   "id": "d2dfede2",
   "metadata": {},
   "source": [
    "You can further customise your `circle()` plot by using additional paramaters such as:\n",
    "\n",
    "- `alpha`\n",
    "- `color`\n",
    "- `legend_field`\n",
    "\n",
    "For more information on the `circle()` glyph, check our user guide [here](https://docs.bokeh.org/en/latest/docs/reference/plotting/figure.html#bokeh.plotting.figure.circle)."
   ]
  },
  {
   "cell_type": "markdown",
   "id": "28997729",
   "metadata": {},
   "source": [
    "## Heatmap\n",
    "\n",
    "The plot in this sub-section represents Internet adoption over time for selected countries.\n",
    "\n",
    "The `rect()` glyph is used to create the heatmap."
   ]
  },
  {
   "cell_type": "markdown",
   "id": "0c78d2a7",
   "metadata": {},
   "source": [
    "#### Data preparation"
   ]
  },
  {
   "cell_type": "code",
   "execution_count": null,
   "id": "a4880424",
   "metadata": {},
   "outputs": [],
   "source": [
    "file = \"../data/csv_files/Internet_user.csv\"\n",
    "df = pd.read_csv(file, encoding=\"ISO-8859-1\")\n",
    "\n",
    "countries = (\n",
    "    \"Iceland\",\n",
    "    \"Norway\",\n",
    "    \"United Kingdom\",\n",
    "    \"Japan\",\n",
    "    \"Canada\",\n",
    "    \"Germany\",\n",
    "    \"New Zealand\",\n",
    "    \"France\",\n",
    "    \"Israel\",\n",
    "    \"United States\",\n",
    "    \"Argentina\",\n",
    "    \"Chile\",\n",
    "    \"Italy\",\n",
    "    \"Brazil\",\n",
    "    \"Mexico\",\n",
    "    \"South Africa\",\n",
    "    \"China\",\n",
    "    \"Algeria\",\n",
    "    \"India\",\n",
    "    \"Kenya\",\n",
    ")\n",
    "\n",
    "# create new dataframe with only the selected countries and columns\n",
    "df = df[df[\"country\"].isin(countries)].reset_index(drop=True).fillna(0)\n",
    "df = df.drop([\"country_code\", \"indicator\", \"indicator_code\"], axis=1)\n",
    "\n",
    "# stack dataframe columns\n",
    "df = pd.DataFrame(df.set_index(\"country\").stack(), columns=[\"percentage\"])\n",
    "df = df.reset_index().rename(columns={\"level_1\": \"year\"}).fillna(0)\n",
    "\n",
    "# convert \"year\" column to integer type\n",
    "df[\"year\"] = df.year.astype(int)\n",
    "\n",
    "df"
   ]
  },
  {
   "cell_type": "markdown",
   "id": "f77e8482",
   "metadata": {},
   "source": [
    "#### Plotting"
   ]
  },
  {
   "cell_type": "code",
   "execution_count": null,
   "id": "fb6abee9",
   "metadata": {},
   "outputs": [],
   "source": [
    "# import relevenat libraries\n",
    "from bokeh.transform import transform\n",
    "from bokeh.models import ColorBar, LinearColorMapper, FixedTicker"
   ]
  },
  {
   "cell_type": "code",
   "execution_count": null,
   "id": "552fd194",
   "metadata": {
    "scrolled": true
   },
   "outputs": [],
   "source": [
    "# plot heatmap\n",
    "\n",
    "# create figure object\n",
    "p = figure(\n",
    "    title=\"Figure 6.15 Internet adoption over time\",  # plot title\n",
    "    height=400,  # plot height\n",
    "    toolbar_location=None,  # remove toolbars\n",
    "    y_axis_location=\"right\",  # display y axis on the right of plot\n",
    "    y_range=countries[::-1],  # categorical range of y-axis in reverse order\n",
    ")\n",
    "\n",
    "# create color mapper object\n",
    "mapper = LinearColorMapper(\n",
    "    palette=\"Magma256\", low=min(df[\"percentage\"]), high=max(df[\"percentage\"])\n",
    ")\n",
    "\n",
    "# create rectangle glyph\n",
    "p.rect(\n",
    "    x=\"year\",  # x-axis column name\n",
    "    y=\"country\",  # y-axis column name\n",
    "    width=2,  # rectangle width\n",
    "    height=1,  # rectangle height\n",
    "    source=df,  # data source for x and y axis columns\n",
    "    # map percentage values to color mapper object using transform\n",
    "    fill_color=transform(\"percentage\", mapper),\n",
    "    line_color=\"white\",  # rectangle line color\n",
    ")\n",
    "\n",
    "\n",
    "# plot customization\n",
    "\n",
    "# configure x-axis ticks to show only specified tick labels\n",
    "p.xaxis.ticker = [1995, 2000, 2005, 2010, 2015]\n",
    "\n",
    "# start and end x-axis at the specified years\n",
    "p.x_range.start = 1993\n",
    "p.x_range.end = 2016\n",
    "\n",
    "# remove x-axis major ticks\n",
    "p.xaxis.major_tick_line_color = None\n",
    "p.xaxis.major_tick_out = 0\n",
    "\n",
    "# remove y-axis lines and ticks\n",
    "p.yaxis.minor_tick_out = 0\n",
    "p.yaxis.major_tick_out = 0\n",
    "p.yaxis.major_tick_line_color = None\n",
    "p.yaxis.axis_line_color = None\n",
    "\n",
    "# create color bar object\n",
    "color_bar = ColorBar(\n",
    "    color_mapper=mapper,\n",
    "    location=(0, 0),\n",
    "    ticker=FixedTicker(ticks=[0, 25, 50, 75, 100]),\n",
    "    title=\"internet users / 100 people\",\n",
    "    title_text_font_style=\"normal\",\n",
    "    major_tick_line_color=None,\n",
    "    width=300,\n",
    "    height=20,\n",
    ")\n",
    "\n",
    "# add color bar above the plot\n",
    "p.add_layout(color_bar, \"above\")\n",
    "\n",
    "\n",
    "show(p)"
   ]
  },
  {
   "cell_type": "markdown",
   "id": "6e9c7f8a",
   "metadata": {},
   "source": [
    "The `transform` method is used to apply the color to the rectangles using the `fill_color` parameter. It takes a column name and applies a transform function to the column name. For more information about `transform`, visit our reference section [here](https://docs.bokeh.org/en/latest/docs/reference/transform.html#module-bokeh.transform)\n",
    "\n",
    "For more information on the `rect()` glyph, check our user guide [here](https://docs.bokeh.org/en/latest/docs/user_guide/topics/categorical.html#heatmaps)."
   ]
  },
  {
   "cell_type": "code",
   "execution_count": null,
   "id": "fcb293af",
   "metadata": {},
   "outputs": [],
   "source": []
  }
 ],
 "metadata": {
  "kernelspec": {
   "display_name": "Python 3 (ipykernel)",
   "language": "python",
   "name": "python3"
  },
  "language_info": {
   "codemirror_mode": {
    "name": "ipython",
    "version": 3
   },
   "file_extension": ".py",
   "mimetype": "text/x-python",
   "name": "python",
   "nbconvert_exporter": "python",
   "pygments_lexer": "ipython3",
   "version": "3.9.16"
  }
 },
 "nbformat": 4,
 "nbformat_minor": 5
}
