{
 "cells": [
  {
   "cell_type": "code",
   "execution_count": null,
   "id": "dbdb22de",
   "metadata": {},
   "outputs": [],
   "source": [
    "from bokeh.io import output_notebook\n",
    "import pandas as pd"
   ]
  },
  {
   "cell_type": "code",
   "execution_count": null,
   "id": "322be266",
   "metadata": {},
   "outputs": [],
   "source": [
    "output_notebook()"
   ]
  },
  {
   "cell_type": "markdown",
   "id": "c3600db3",
   "metadata": {},
   "source": [
    "### Figure 9.3"
   ]
  },
  {
   "cell_type": "code",
   "execution_count": null,
   "id": "b4c9ce7f",
   "metadata": {
    "scrolled": true
   },
   "outputs": [],
   "source": [
    "file = \"../data/csv_files/lincoln.csv\"\n",
    "df = pd.read_csv(file)\n",
    "\n",
    "df[\"DATE\"] = pd.to_datetime(df[\"DATE\"])\n",
    "df[\"TAVG\"] = (df[\"TMAX\"] + df[\"TMIN\"]) / 2\n",
    "df[\"MONTH\"] = df.DATE.dt.strftime(\"%b\")\n",
    "\n",
    "df = df[\n",
    "    [\n",
    "        \"MONTH\",\n",
    "        \"TMIN\",\n",
    "        \"TMAX\",\n",
    "        \"TAVG\",\n",
    "    ]\n",
    "]"
   ]
  },
  {
   "cell_type": "code",
   "execution_count": null,
   "id": "9a83408b",
   "metadata": {},
   "outputs": [],
   "source": [
    "qs = df.groupby(\"MONTH\").TAVG.quantile([0.25, 0.5, 0.75]).unstack().reset_index()\n",
    "qs.columns = [\"MONTH\", \"Q1\", \"Q2\", \"Q3\"]\n",
    "\n",
    "iqr = qs.Q3 - qs.Q1\n",
    "qs[\"upper\"] = qs.Q3 + 1.5 * iqr\n",
    "qs[\"lower\"] = qs.Q1 - 1.5 * iqr\n",
    "df = pd.merge(df, qs, on=\"MONTH\", how=\"left\")\n",
    "\n",
    "df"
   ]
  },
  {
   "cell_type": "code",
   "execution_count": null,
   "id": "8101f22d",
   "metadata": {},
   "outputs": [],
   "source": [
    "from bokeh.models import ColumnDataSource, Whisker\n",
    "from bokeh.plotting import figure, show"
   ]
  },
  {
   "cell_type": "code",
   "execution_count": null,
   "id": "fc56a6c4",
   "metadata": {
    "scrolled": true
   },
   "outputs": [],
   "source": [
    "p = figure(\n",
    "    title=\"Figure 9.3\",\n",
    "    x_range=df.MONTH.unique(),\n",
    "    toolbar_location=None,\n",
    "    height=400,\n",
    "    width=600,\n",
    "    x_axis_label=\"month\",\n",
    "    y_axis_label=\"mean temperature (F)\",\n",
    ")\n",
    "\n",
    "source = ColumnDataSource(df)\n",
    "\n",
    "whisker = Whisker(base=\"MONTH\", upper=\"upper\", lower=\"lower\", source=source)\n",
    "whisker.upper_head.size = whisker.lower_head.size = 20\n",
    "p.add_layout(whisker)\n",
    "\n",
    "p.vbar(\n",
    "    x=\"MONTH\",\n",
    "    top=\"Q2\",\n",
    "    bottom=\"Q1\",\n",
    "    width=0.8,\n",
    "    source=source,\n",
    "    color=\"#E0E0E0\",\n",
    "    line_color=\"black\",\n",
    ")\n",
    "\n",
    "p.vbar(\n",
    "    x=\"MONTH\",\n",
    "    top=\"Q3\",\n",
    "    bottom=\"Q2\",\n",
    "    width=0.8,\n",
    "    source=source,\n",
    "    color=\"#E0E0E0\",\n",
    "    line_color=\"black\",\n",
    ")\n",
    "\n",
    "outliers = df[~df.TAVG.between(df.lower, df.upper)]\n",
    "p.scatter(\"MONTH\", \"TAVG\", source=outliers, size=5, color=\"black\")\n",
    "\n",
    "p.y_range.start = -10\n",
    "p.yaxis.ticker = [0, 25, 50, 75]\n",
    "p.grid.grid_line_color = None\n",
    "\n",
    "show(p)"
   ]
  },
  {
   "cell_type": "markdown",
   "id": "c5086406",
   "metadata": {},
   "source": [
    "### Figure 9.8"
   ]
  },
  {
   "cell_type": "code",
   "execution_count": null,
   "id": "88c6f01e",
   "metadata": {},
   "outputs": [],
   "source": [
    "from bokeh.transform import jitter"
   ]
  },
  {
   "cell_type": "code",
   "execution_count": null,
   "id": "6e779455",
   "metadata": {
    "scrolled": true
   },
   "outputs": [],
   "source": [
    "source = ColumnDataSource(df)\n",
    "\n",
    "p = figure(\n",
    "    title=\"Figure 9.8\",\n",
    "    x_range=df.MONTH.unique(),\n",
    "    toolbar_location=None,\n",
    "    height=400,\n",
    "    width=500,\n",
    "    x_axis_label=\"month\",\n",
    "    y_axis_label=\"mean temperature (F)\",\n",
    ")\n",
    "\n",
    "p.scatter(\n",
    "    x=\"MONTH\",\n",
    "    # y=\"TAVG\",\n",
    "    y=jitter(\"TAVG\", width=0.6, range=p.y_range),\n",
    "    source=source,\n",
    "    alpha=0.5,\n",
    "    color=\"black\",\n",
    ")\n",
    "\n",
    "p.y_range.start = -10\n",
    "p.yaxis.ticker = [0, 25, 50, 75]\n",
    "p.grid.grid_line_color = None\n",
    "\n",
    "show(p)"
   ]
  },
  {
   "cell_type": "markdown",
   "id": "f116c116",
   "metadata": {},
   "source": [
    "### figure 9.12"
   ]
  },
  {
   "cell_type": "code",
   "execution_count": null,
   "id": "5e62bcac",
   "metadata": {
    "scrolled": true
   },
   "outputs": [],
   "source": [
    "file = \"../data/csv_files/dw_nominate_house.csv\"\n",
    "\n",
    "df = pd.read_csv(file)\n",
    "df[\"year\"] = (df.congress) * 2 + 1787\n",
    "\n",
    "year = df[\"year\"] >= 1963\n",
    "parties = (df[\"party_code\"] == 100) | (df[\"party_code\"] == 200)\n",
    "dn = df[\"cd\"] != 0\n",
    "\n",
    "df = df[year & parties & dn].reset_index(drop=True)\n",
    "\n",
    "df"
   ]
  },
  {
   "cell_type": "code",
   "execution_count": null,
   "id": "79067bd4",
   "metadata": {},
   "outputs": [],
   "source": [
    "import numpy as np\n",
    "from sklearn.neighbors import KernelDensity\n",
    "\n",
    "positions = np.linspace(-1.5, 1.5, 1000)\n",
    "dem = df[df[\"party_code\"] == 100]\n",
    "rep = df[df[\"party_code\"] == 200]"
   ]
  },
  {
   "cell_type": "code",
   "execution_count": null,
   "id": "249171fa",
   "metadata": {},
   "outputs": [],
   "source": []
  }
 ],
 "metadata": {
  "kernelspec": {
   "display_name": "Python 3 (ipykernel)",
   "language": "python",
   "name": "python3"
  },
  "language_info": {
   "codemirror_mode": {
    "name": "ipython",
    "version": 3
   },
   "file_extension": ".py",
   "mimetype": "text/x-python",
   "name": "python",
   "nbconvert_exporter": "python",
   "pygments_lexer": "ipython3",
   "version": "3.9.16"
  }
 },
 "nbformat": 4,
 "nbformat_minor": 5
}
