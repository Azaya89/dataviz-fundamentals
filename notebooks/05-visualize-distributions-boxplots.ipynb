{
 "cells": [
  {
   "cell_type": "markdown",
   "id": "790a622b",
   "metadata": {},
   "source": [
    "# Visualizing many distributions at once using boxplots and ridgeline plots\n",
    "\n",
    "This is the fifth installment in a series of blog posts where we reproduce plots from Claus Wilke’s book, *Fundamentals of Data Visualization.* \n",
    "\n",
    "This notebook demonstrates how to recreate the boxplots and ridgeline plots found in the “[visualizing many distributions at once](https://clauswilke.com/dataviz/boxplots-violins.html)” chapter of the book.\n",
    "\n",
    "We will use the `vbar()`, `scatter()`, and `patch()` glyphs to recreate the plots."
   ]
  },
  {
   "cell_type": "code",
   "execution_count": null,
   "id": "dbdb22de",
   "metadata": {},
   "outputs": [],
   "source": [
    "from bokeh.io import output_notebook\n",
    "import pandas as pd"
   ]
  },
  {
   "cell_type": "code",
   "execution_count": null,
   "id": "322be266",
   "metadata": {},
   "outputs": [],
   "source": [
    "output_notebook()"
   ]
  },
  {
   "cell_type": "markdown",
   "id": "aaef73b3",
   "metadata": {},
   "source": [
    "### Figure 9.3"
   ]
  },
  {
   "cell_type": "code",
   "execution_count": null,
   "id": "b4c9ce7f",
   "metadata": {
    "scrolled": true
   },
   "outputs": [],
   "source": [
    "file = \"../data/csv_files/lincoln.csv\"\n",
    "df = pd.read_csv(file)\n",
    "\n",
    "df[\"DATE\"] = pd.to_datetime(df[\"DATE\"])\n",
    "df[\"TAVG\"] = (df[\"TMAX\"] + df[\"TMIN\"]) / 2\n",
    "df[\"MONTH\"] = df.DATE.dt.strftime(\"%b\")\n",
    "\n",
    "df = df[\n",
    "    [\n",
    "        \"MONTH\",\n",
    "        \"TMIN\",\n",
    "        \"TMAX\",\n",
    "        \"TAVG\",\n",
    "    ]\n",
    "]"
   ]
  },
  {
   "cell_type": "code",
   "execution_count": null,
   "id": "9a83408b",
   "metadata": {},
   "outputs": [],
   "source": [
    "qs = df.groupby(\"MONTH\").TAVG.quantile([0.25, 0.5, 0.75]).unstack().reset_index()\n",
    "qs.columns = [\"MONTH\", \"Q1\", \"Q2\", \"Q3\"]\n",
    "\n",
    "iqr = qs.Q3 - qs.Q1\n",
    "qs[\"upper\"] = qs.Q3 + 1.5 * iqr\n",
    "qs[\"lower\"] = qs.Q1 - 1.5 * iqr\n",
    "df = pd.merge(df, qs, on=\"MONTH\", how=\"left\")\n",
    "\n",
    "df"
   ]
  },
  {
   "cell_type": "code",
   "execution_count": null,
   "id": "8101f22d",
   "metadata": {},
   "outputs": [],
   "source": [
    "from bokeh.models import ColumnDataSource, Whisker\n",
    "from bokeh.plotting import figure, show"
   ]
  },
  {
   "cell_type": "code",
   "execution_count": null,
   "id": "fc56a6c4",
   "metadata": {
    "scrolled": true
   },
   "outputs": [],
   "source": [
    "p = figure(\n",
    "    title=\"Figure 9.3\",\n",
    "    x_range=df.MONTH.unique(),\n",
    "    toolbar_location=None,\n",
    "    height=400,\n",
    "    width=600,\n",
    "    x_axis_label=\"month\",\n",
    "    y_axis_label=\"mean temperature (F)\",\n",
    ")\n",
    "\n",
    "source = ColumnDataSource(df)\n",
    "\n",
    "whisker = Whisker(base=\"MONTH\", upper=\"upper\", lower=\"lower\", source=source)\n",
    "whisker.upper_head.size = whisker.lower_head.size = 20\n",
    "p.add_layout(whisker)\n",
    "\n",
    "p.vbar(\n",
    "    x=\"MONTH\",\n",
    "    top=\"Q2\",\n",
    "    bottom=\"Q1\",\n",
    "    width=0.8,\n",
    "    source=source,\n",
    "    color=\"#E0E0E0\",\n",
    "    line_color=\"black\",\n",
    ")\n",
    "\n",
    "p.vbar(\n",
    "    x=\"MONTH\",\n",
    "    top=\"Q3\",\n",
    "    bottom=\"Q2\",\n",
    "    width=0.8,\n",
    "    source=source,\n",
    "    color=\"#E0E0E0\",\n",
    "    line_color=\"black\",\n",
    ")\n",
    "\n",
    "outliers = df[~df.TAVG.between(df.lower, df.upper)]\n",
    "p.scatter(\"MONTH\", \"TAVG\", source=outliers, size=5, color=\"black\")\n",
    "\n",
    "p.y_range.start = -10\n",
    "p.yaxis.ticker = [0, 25, 50, 75]\n",
    "p.grid.grid_line_color = None\n",
    "\n",
    "show(p)"
   ]
  },
  {
   "cell_type": "markdown",
   "id": "da69382c",
   "metadata": {},
   "source": [
    "### Figure 9.8"
   ]
  },
  {
   "cell_type": "code",
   "execution_count": null,
   "id": "f79e281c",
   "metadata": {},
   "outputs": [],
   "source": [
    "import numpy as np\n",
    "\n",
    "values = []\n",
    "cats = list(df.MONTH.unique())\n",
    "for cat in cats:\n",
    "    month = df[df[\"MONTH\"] == cat]\n",
    "    m_values = month.TAVG.values\n",
    "    m_values = np.nan_to_num(m_values, nan=0)\n",
    "    values.append(m_values)"
   ]
  },
  {
   "cell_type": "code",
   "execution_count": null,
   "id": "da5b9219",
   "metadata": {},
   "outputs": [],
   "source": [
    "from sklearn.neighbors import KernelDensity\n",
    "\n",
    "positions = np.linspace(-1, 90, 500)"
   ]
  },
  {
   "cell_type": "code",
   "execution_count": null,
   "id": "4d05a589",
   "metadata": {},
   "outputs": [],
   "source": [
    "from bokeh.transform import jitter"
   ]
  },
  {
   "cell_type": "code",
   "execution_count": null,
   "id": "c2b9eb16",
   "metadata": {
    "scrolled": false
   },
   "outputs": [],
   "source": [
    "source = ColumnDataSource(df)\n",
    "\n",
    "p = figure(\n",
    "    title=\"Figure 9.8\",\n",
    "    x_range=df.MONTH.unique(),\n",
    "    toolbar_location=None,\n",
    "    height=400,\n",
    "    width=500,\n",
    "    x_axis_label=\"month\",\n",
    "    y_axis_label=\"mean temperature (F)\",\n",
    ")\n",
    "\n",
    "\n",
    "def ridge(category, data, scale=5):\n",
    "    return list(zip([category] * len(data), scale * data))\n",
    "\n",
    "\n",
    "for cat, value in zip(cats, values):\n",
    "    kde = KernelDensity(kernel=\"gaussian\", bandwidth=3).fit(value[:, np.newaxis])\n",
    "    log_dens = kde.score_samples(positions[:, np.newaxis])\n",
    "    x1 = ridge(cat, np.exp(log_dens))\n",
    "    x2 = ridge(cat, -(np.exp(log_dens)))\n",
    "    p.harea(x1=x1, y=positions, x2=x2, alpha=0.8, color=\"#E0E0E0\")\n",
    "\n",
    "p.scatter(\n",
    "    x=jitter(\"MONTH\", width=0.4, range=p.x_range),\n",
    "    y=\"TAVG\",\n",
    "    source=source,\n",
    "    color=\"black\",\n",
    ")\n",
    "\n",
    "p.y_range.start = -10\n",
    "p.yaxis.ticker = [0, 25, 50, 75]\n",
    "p.grid.grid_line_color = None\n",
    "\n",
    "show(p)"
   ]
  },
  {
   "cell_type": "markdown",
   "id": "706cf970",
   "metadata": {},
   "source": [
    "### figure 9.12"
   ]
  },
  {
   "cell_type": "code",
   "execution_count": null,
   "id": "832f3f63",
   "metadata": {
    "scrolled": true
   },
   "outputs": [],
   "source": [
    "file = \"../data/csv_files/dw_nominate_house.csv\"\n",
    "\n",
    "df = pd.read_csv(file)\n",
    "df[\"year\"] = (df.congress) * 2 + 1787\n",
    "\n",
    "year = df[\"year\"] >= 1963\n",
    "parties = (df[\"party_code\"] == 100) | (df[\"party_code\"] == 200)\n",
    "dn = df[\"cd\"] != 0\n",
    "\n",
    "df = df[year & parties & dn].reset_index(drop=True)\n",
    "\n",
    "df"
   ]
  },
  {
   "cell_type": "code",
   "execution_count": null,
   "id": "dffe0284",
   "metadata": {},
   "outputs": [],
   "source": [
    "dem = df[df[\"party_code\"] == 100]\n",
    "rep = df[df[\"party_code\"] == 200]\n",
    "\n",
    "dems = dem[[\"year\", \"dim_1\"]]\n",
    "\n",
    "grouped = dems.groupby(\"year\")[\"dim_1\"]\n",
    "\n",
    "\n",
    "def ridge(category, data, scale=5):\n",
    "    return list(zip([category] * len(data), scale * data))\n",
    "\n",
    "\n",
    "kde_results = []\n",
    "for year, value in grouped:\n",
    "    positions = np.linspace(-1.5, 1.5, 1000)\n",
    "    values = value.values\n",
    "    kde = KernelDensity(kernel=\"gaussian\", bandwidth=0.3).fit(values[:, np.newaxis])\n",
    "    log_dens = kde.score_samples(positions[:, np.newaxis])\n",
    "    kde_results.append({\"year\": year, \"x_range\": positions, \"log_density\": log_dens})\n",
    "\n",
    "y_range = [year for year, value in grouped]\n",
    "p = figure(title=\"Figure 9.12\", x_axis_label=\"DW-NOMINATE score\")\n",
    "# y_range=y_range)\n",
    "\n",
    "for i, kde_result in enumerate(kde_results):\n",
    "    density = np.exp(kde_result[\"log_density\"])\n",
    "    y = ridge(year, density)\n",
    "    p.patch(\n",
    "        x=positions, y=density, line_color=\"blue\", fill_color=\"blue\", fill_alpha=0.7\n",
    "    )\n",
    "\n",
    "show(p)"
   ]
  },
  {
   "cell_type": "code",
   "execution_count": null,
   "id": "4ad9be21",
   "metadata": {},
   "outputs": [],
   "source": []
  }
 ],
 "metadata": {
  "kernelspec": {
   "display_name": "Python 3 (ipykernel)",
   "language": "python",
   "name": "python3"
  },
  "language_info": {
   "codemirror_mode": {
    "name": "ipython",
    "version": 3
   },
   "file_extension": ".py",
   "mimetype": "text/x-python",
   "name": "python",
   "nbconvert_exporter": "python",
   "pygments_lexer": "ipython3",
   "version": "3.9.16"
  }
 },
 "nbformat": 4,
 "nbformat_minor": 5
}
