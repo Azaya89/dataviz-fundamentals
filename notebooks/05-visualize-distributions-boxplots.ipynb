{
 "cells": [
  {
   "cell_type": "markdown",
   "id": "790a622b",
   "metadata": {},
   "source": [
    "# Visualizing many distributions at once using boxplots and ridgeline plots\n",
    "\n",
    "This is the fifth installment in a series of blog posts where we reproduce plots from Claus Wilke’s book, *Fundamentals of Data Visualization.* \n",
    "\n",
    "This notebook demonstrates how to recreate the boxplots and ridgeline plots found in the “[visualizing many distributions at once](https://clauswilke.com/dataviz/boxplots-violins.html)” chapter of the book.\n",
    "\n",
    "We will use the `vbar()`, `scatter()`, `harea()`, and `patch()` glyphs to recreate the plots."
   ]
  },
  {
   "cell_type": "code",
   "execution_count": null,
   "id": "dbdb22de",
   "metadata": {},
   "outputs": [],
   "source": [
    "from bokeh.io import output_notebook\n",
    "import pandas as pd\n",
    "\n",
    "output_notebook()  # render plots inline in notebook"
   ]
  },
  {
   "cell_type": "markdown",
   "id": "aaef73b3",
   "metadata": {},
   "source": [
    "## Boxplot\n",
    "\n",
    "The plot in this sub-section represent the mean daily temperatures in Lincoln, Nebraska in 2016. The line in the middle of the boxplot represent the median, and the box encloses the middle 50% of the data.\n",
    "\n",
    "The top and bottom whiskers extend to the maximum and minimum that falls within 1.5 times the height of the box."
   ]
  },
  {
   "cell_type": "markdown",
   "id": "ab4c7bd8",
   "metadata": {},
   "source": [
    "### Data preparation"
   ]
  },
  {
   "cell_type": "code",
   "execution_count": null,
   "id": "b4c9ce7f",
   "metadata": {
    "scrolled": true
   },
   "outputs": [],
   "source": [
    "file = \"../data/csv_files/lincoln.csv\"\n",
    "df = pd.read_csv(file)\n",
    "\n",
    "df[\"DATE\"] = pd.to_datetime(df[\"DATE\"])\n",
    "df[\"TAVG\"] = (df[\"TMAX\"] + df[\"TMIN\"]) / 2\n",
    "df[\"MONTH\"] = df.DATE.dt.strftime(\"%b\")\n",
    "\n",
    "df = df[\n",
    "    [\n",
    "        \"MONTH\",\n",
    "        \"TMIN\",\n",
    "        \"TMAX\",\n",
    "        \"TAVG\",\n",
    "    ]\n",
    "]\n",
    "\n",
    "qs = df.groupby(\"MONTH\").TAVG.quantile([0.25, 0.5, 0.75]).unstack().reset_index()\n",
    "qs.columns = [\"MONTH\", \"Q1\", \"Q2\", \"Q3\"]\n",
    "\n",
    "iqr = qs.Q3 - qs.Q1\n",
    "qs[\"upper\"] = qs.Q3 + 1.5 * iqr\n",
    "qs[\"lower\"] = qs.Q1 - 1.5 * iqr\n",
    "df = pd.merge(df, qs, on=\"MONTH\", how=\"left\")\n",
    "\n",
    "df.head()"
   ]
  },
  {
   "cell_type": "markdown",
   "id": "d6102777",
   "metadata": {},
   "source": [
    "### Plotting"
   ]
  },
  {
   "cell_type": "code",
   "execution_count": null,
   "id": "8101f22d",
   "metadata": {},
   "outputs": [],
   "source": [
    "from bokeh.models import ColumnDataSource, Whisker\n",
    "from bokeh.plotting import figure, show"
   ]
  },
  {
   "cell_type": "code",
   "execution_count": null,
   "id": "fc56a6c4",
   "metadata": {
    "scrolled": true
   },
   "outputs": [],
   "source": [
    "# create figure object\n",
    "p = figure(\n",
    "    title=\"Figure 9.3\",\n",
    "    x_range=df.MONTH.unique(),\n",
    "    toolbar_location=None,\n",
    "    height=400,\n",
    "    width=600,\n",
    "    x_axis_label=\"month\",\n",
    "    y_axis_label=\"mean temperature (F)\",\n",
    ")\n",
    "\n",
    "# create column data source object from the dataframe\n",
    "source = ColumnDataSource(df)\n",
    "\n",
    "# create whisker object and add it to figure\n",
    "whisker = Whisker(base=\"MONTH\", upper=\"upper\", lower=\"lower\", source=source)\n",
    "whisker.upper_head.size = whisker.lower_head.size = 20\n",
    "p.add_layout(whisker)\n",
    "\n",
    "# create boxplot using two vbar() glyphs\n",
    "p.vbar(\n",
    "    x=\"MONTH\",\n",
    "    top=\"Q2\",\n",
    "    bottom=\"Q1\",\n",
    "    width=0.8,\n",
    "    source=source,\n",
    "    color=\"#E0E0E0\",\n",
    "    line_color=\"black\",\n",
    ")\n",
    "\n",
    "p.vbar(\n",
    "    x=\"MONTH\",\n",
    "    top=\"Q3\",\n",
    "    bottom=\"Q2\",\n",
    "    width=0.8,\n",
    "    source=source,\n",
    "    color=\"#E0E0E0\",\n",
    "    line_color=\"black\",\n",
    ")\n",
    "\n",
    "# plot outliers using scatter() glyph\n",
    "outliers = df[~df.TAVG.between(df.lower, df.upper)]\n",
    "p.scatter(\"MONTH\", \"TAVG\", source=outliers, size=5, color=\"black\")\n",
    "\n",
    "# customize y-axis of plot\n",
    "p.y_range.start = -10\n",
    "p.yaxis.ticker = [0, 25, 50, 75]\n",
    "p.grid.grid_line_color = None\n",
    "\n",
    "show(p)"
   ]
  },
  {
   "cell_type": "markdown",
   "id": "af00b684",
   "metadata": {},
   "source": [
    "For more information about the `scatter()` glyph, you can visit the [reference guide](https://docs.bokeh.org/en/latest/docs/reference/plotting/figure.html#bokeh.plotting.figure.scatter)."
   ]
  },
  {
   "cell_type": "markdown",
   "id": "da69382c",
   "metadata": {},
   "source": [
    "## Sina plot\n",
    "\n",
    "The plot in this sub-section represents the mean daily temperatures in Lincoln, Nebraska in 2016. We use the same file as the boxplot."
   ]
  },
  {
   "cell_type": "markdown",
   "id": "0b68b779",
   "metadata": {},
   "source": [
    "### Data preparation"
   ]
  },
  {
   "cell_type": "code",
   "execution_count": null,
   "id": "f79e281c",
   "metadata": {},
   "outputs": [],
   "source": [
    "import numpy as np\n",
    "\n",
    "months = list(df.MONTH.unique())"
   ]
  },
  {
   "cell_type": "markdown",
   "id": "683c3187",
   "metadata": {},
   "source": [
    "### Plotting"
   ]
  },
  {
   "cell_type": "code",
   "execution_count": null,
   "id": "da5b9219",
   "metadata": {},
   "outputs": [],
   "source": [
    "from sklearn.neighbors import KernelDensity"
   ]
  },
  {
   "cell_type": "code",
   "execution_count": null,
   "id": "c2b9eb16",
   "metadata": {
    "scrolled": true
   },
   "outputs": [],
   "source": [
    "# create figure object\n",
    "p = figure(\n",
    "    title=\"Figure 9.8\",\n",
    "    x_range=months,\n",
    "    toolbar_location=None,\n",
    "    height=400,\n",
    "    width=500,\n",
    "    x_axis_label=\"month\",\n",
    "    y_axis_label=\"mean temperature (F)\",\n",
    ")\n",
    "\n",
    "# create an offset for each category in the data\n",
    "\n",
    "\n",
    "def offset(category, data, scale=7):\n",
    "    return list(zip([category] * len(data), scale * data))\n",
    "\n",
    "\n",
    "for month in months:\n",
    "    month_df = df[df.MONTH == month].dropna()\n",
    "    tavg = month_df.TAVG.values\n",
    "    temps = np.linspace(tavg.min(), tavg.max(), 50)\n",
    "\n",
    "    # calculate the KDE for each month and plot the data\n",
    "    kde = KernelDensity(kernel=\"gaussian\", bandwidth=3).fit(tavg[:, np.newaxis])\n",
    "    density = np.exp(kde.score_samples(temps[:, np.newaxis]))\n",
    "    x1, x2 = offset(month, density), offset(month, -density)\n",
    "\n",
    "    p.harea(x1=x1, x2=x2, y=temps, alpha=0.8, color=\"#E0E0E0\")\n",
    "\n",
    "    # create jitter to offset temperature data points\n",
    "    tavg_density = np.exp(kde.score_samples(tavg[:, np.newaxis]))\n",
    "    jitter = (np.random.random(len(tavg)) * 2 - 1) * tavg_density\n",
    "\n",
    "    # create a scatter plot for the average temp in each month\n",
    "    p.scatter(\n",
    "        x=offset(month, jitter),\n",
    "        y=tavg,\n",
    "        color=\"black\",\n",
    "    )\n",
    "\n",
    "# customize plot\n",
    "p.y_range.start = -10\n",
    "p.yaxis.ticker = [0, 25, 50, 75]\n",
    "p.grid.grid_line_color = None\n",
    "\n",
    "show(p)"
   ]
  },
  {
   "cell_type": "markdown",
   "id": "54aa29b7",
   "metadata": {},
   "source": [
    "For more information about the `harea()` glyph, you can visit the [reference guide](https://docs.bokeh.org/en/latest/docs/reference/plotting/figure.html#bokeh.plotting.figure.harea)."
   ]
  },
  {
   "cell_type": "markdown",
   "id": "706cf970",
   "metadata": {},
   "source": [
    "## Ridgeline plot\n",
    "\n",
    "The plot in this sub-section represent the voting pattern in the U.S House of Representatives over the years. DW-NOMINATE scores are frequently used to compare the voting patterns between parties and over time. Here, score distributions are shown for each Congress from 1963 to 2013 separately for Democrats and Republicans. Each Congress is represented by its first year (dim_1 column in the dataframe).\n",
    "\n",
    "The `patch()` glyph is used for the plot."
   ]
  },
  {
   "cell_type": "markdown",
   "id": "6cd06255",
   "metadata": {},
   "source": [
    "### Data preparation"
   ]
  },
  {
   "cell_type": "code",
   "execution_count": null,
   "id": "9b2b6c89",
   "metadata": {},
   "outputs": [],
   "source": [
    "file = \"../data/csv_files/dw_nominate_house.csv\"\n",
    "\n",
    "df = pd.read_csv(file)\n",
    "\n",
    "# add year column by multiplying each congress by 2 from the year 1787\n",
    "df[\"year\"] = (df.congress) * 2 + 1787\n",
    "\n",
    "# select only the relevant columns from the year 1963 onwards\n",
    "year = df[\"year\"] >= 1962\n",
    "parties = (df[\"party_code\"] == 100) | (df[\"party_code\"] == 200)\n",
    "dn = (df[\"cd\"] != 0) & (df[\"cd\"] != 98) & (df[\"cd\"] != 99)\n",
    "\n",
    "df = df[year & parties & dn].reset_index(drop=True)\n",
    "\n",
    "# create two dataframes for both political parties\n",
    "dems = df[df[\"party_code\"] == 100]\n",
    "repubs = df[df[\"party_code\"] == 200]"
   ]
  },
  {
   "cell_type": "code",
   "execution_count": null,
   "id": "7381428e",
   "metadata": {},
   "outputs": [],
   "source": [
    "from bokeh.models import ColumnDataSource\n",
    "import numpy as np\n",
    "from scipy.stats import gaussian_kde\n",
    "from sklearn.neighbors import KernelDensity\n",
    "\n",
    "# create a column data source containing the KDE data for each\n",
    "\n",
    "\n",
    "def tweak_df(df):\n",
    "    \"\"\"\n",
    "    Calculate Kernel Density Estimates (KDE) for each year in the input DataFrame.\n",
    "\n",
    "    Parameters:\n",
    "        df (pd.DataFrame): Input DataFrame with columns \"year\" and \"dim_1\".\n",
    "\n",
    "    Returns:\n",
    "        bokeh.models.ColumnDataSource: A ColumnDataSource containing KDE data for each year.\n",
    "\n",
    "    Raises:\n",
    "        ValueError: If the input DataFrame does not have the required columns or if there's an issue with KDE calculation.\n",
    "    \"\"\"\n",
    "    # Validate input DataFrame\n",
    "    if not isinstance(df, pd.DataFrame):\n",
    "        raise ValueError(\"Input must be a pandas DataFrame.\")\n",
    "    if \"year\" not in df.columns or \"dim_1\" not in df.columns:\n",
    "        raise ValueError(\"Input DataFrame must have columns 'year' and 'dim_1'.\")\n",
    "\n",
    "    grouped = df.groupby(\"year\").dim_1\n",
    "\n",
    "    # create Column Data Source object to hold the KDE data\n",
    "    scores = np.linspace(-1.5, 1.5, 500)\n",
    "    source = ColumnDataSource(data=dict(scores=scores))\n",
    "\n",
    "    def ridge(category, data, scale=2):\n",
    "        return list(zip([category] * len(data), scale * data))\n",
    "\n",
    "    # Calculate KDE for each column and create plotting ridge\n",
    "    try:\n",
    "        for year, vote in grouped:\n",
    "            year = str(year)\n",
    "            pdf = gaussian_kde(vote)\n",
    "            y = ridge(year, pdf(scores))\n",
    "            source.add(y, year)\n",
    "    except Exception as e:\n",
    "        raise ValueError(f\"Error occurred during KDE calculation: {str(e)}\")\n",
    "\n",
    "    return source"
   ]
  },
  {
   "cell_type": "markdown",
   "id": "a1afd773",
   "metadata": {},
   "source": [
    "### Plotting"
   ]
  },
  {
   "cell_type": "code",
   "execution_count": null,
   "id": "0e1f0a26",
   "metadata": {},
   "outputs": [],
   "source": [
    "from bokeh.models import ColumnDataSource\n",
    "from bokeh.plotting import figure\n",
    "\n",
    "\n",
    "def plot_ridges(df1, df2=None):\n",
    "    \"\"\"\n",
    "    Plot ridges for two DataFrames.\n",
    "\n",
    "    Parameters:\n",
    "        df1: ColumnDataSource containing data for the first category.\n",
    "        df2 (optional): ColumnDataSource containing data for the second category.\n",
    "\n",
    "    Returns:\n",
    "        bokeh.plotting.figure: A Bokeh figure showing the ridges for both categories.\n",
    "    \"\"\"\n",
    "    # Input validation\n",
    "    if not isinstance(df1, ColumnDataSource):\n",
    "        raise ValueError(f\"{df1} must be a valid ColumnDataSource\")\n",
    "\n",
    "    if df2 is not None and not isinstance(df2, ColumnDataSource):\n",
    "        raise ValueError(f\"{df2} must be a valid ColumnDataSource\")\n",
    "\n",
    "    # Get the list of categories from the data keys\n",
    "    years = list(reversed(df1.data.keys()))[:-1]\n",
    "\n",
    "    # Create a figure object\n",
    "    p = figure(\n",
    "        title=\"Figure 9.12\",\n",
    "        x_axis_label=\"DW-NOMINATE score\",\n",
    "        y_axis_label=\"year\",\n",
    "        # toolbar_location=None,\n",
    "        x_range=(-0.75, 1.5),\n",
    "        y_range=years,\n",
    "        height=400,\n",
    "        width=600,\n",
    "    )\n",
    "\n",
    "    # create alternating alpha values for the ridges\n",
    "    num_ridges = len(years)\n",
    "    alpha_values = [0.3, 0.1] * ((num_ridges + 1) // 2)\n",
    "\n",
    "    # Plot ridges for each category\n",
    "    for i, year in enumerate(years):\n",
    "        # Plot ridges for the first category\n",
    "        p.patch(\n",
    "            x=\"scores\",\n",
    "            y=year,\n",
    "            source=df1,\n",
    "            fill_color=\"blue\",\n",
    "            line_color=\"white\",\n",
    "            legend_label=\"Democrats\",\n",
    "            fill_alpha=alpha_values[i],\n",
    "        )\n",
    "\n",
    "        # Plot ridges for the second category if df2 is provided\n",
    "        if df2 is not None:\n",
    "            # Input validation: Check if df2 has the same keys as df1\n",
    "            if not set(df2.data.keys()) == set(df1.data.keys()):\n",
    "                raise ValueError(f\"{df2} must have the same keys as {df1}\")\n",
    "\n",
    "            p.patch(\n",
    "                x=\"scores\",\n",
    "                y=year,\n",
    "                source=df2,\n",
    "                fill_color=\"red\",\n",
    "                line_color=\"white\",\n",
    "                legend_label=\"Republicans\",\n",
    "                alpha=alpha_values[i],\n",
    "            )\n",
    "\n",
    "    # Customize plot\n",
    "    p.xaxis.ticker = [-0.75, -0.5, -0.25, 0.00, 0.25, 0.5, 0.75, 1.00]\n",
    "    p.legend.orientation = \"horizontal\"\n",
    "    p.ygrid.grid_line_color = None\n",
    "\n",
    "    return p"
   ]
  },
  {
   "cell_type": "code",
   "execution_count": null,
   "id": "77d3cebd",
   "metadata": {
    "scrolled": true
   },
   "outputs": [],
   "source": [
    "# create ridgeline plot for both dataframes\n",
    "r_cds = tweak_df(repubs)\n",
    "d_cds = tweak_df(dems)\n",
    "\n",
    "ridgeplot = plot_ridges(d_cds, r_cds)\n",
    "\n",
    "show(ridgeplot)"
   ]
  },
  {
   "cell_type": "code",
   "execution_count": null,
   "id": "2ca5e592",
   "metadata": {},
   "outputs": [],
   "source": []
  }
 ],
 "metadata": {
  "kernelspec": {
   "display_name": "Python 3 (ipykernel)",
   "language": "python",
   "name": "python3"
  },
  "language_info": {
   "codemirror_mode": {
    "name": "ipython",
    "version": 3
   },
   "file_extension": ".py",
   "mimetype": "text/x-python",
   "name": "python",
   "nbconvert_exporter": "python",
   "pygments_lexer": "ipython3",
   "version": "3.9.16"
  }
 },
 "nbformat": 4,
 "nbformat_minor": 5
}
